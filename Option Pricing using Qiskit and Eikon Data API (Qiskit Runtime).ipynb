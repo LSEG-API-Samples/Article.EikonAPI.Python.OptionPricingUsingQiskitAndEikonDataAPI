{
 "cells": [
  {
   "cell_type": "markdown",
   "id": "6b5d8ad0",
   "metadata": {},
   "source": [
    "## 1. Importing Packages"
   ]
  },
  {
   "cell_type": "code",
   "execution_count": 53,
   "id": "e36e6572",
   "metadata": {},
   "outputs": [
    {
     "data": {
      "text/html": [
       "<h3>Version Information</h3><table><tr><th>Qiskit Software</th><th>Version</th></tr><tr><td><code>qiskit-terra</code></td><td>0.18.1</td></tr><tr><td><code>qiskit-aer</code></td><td>0.8.2</td></tr><tr><td><code>qiskit-ignis</code></td><td>0.6.0</td></tr><tr><td><code>qiskit-ibmq-provider</code></td><td>0.18.3</td></tr><tr><td><code>qiskit-aqua</code></td><td>0.9.4</td></tr><tr><td><code>qiskit-finance</code></td><td>0.2.1</td></tr><tr><td><code>qiskit-optimization</code></td><td>0.2.2</td></tr><tr><th>System information</th></tr><tr><td>Python</td><td>3.8.8 (default, Apr 13 2021, 15:08:03) [MSC v.1916 64 bit (AMD64)]</td></tr><tr><td>OS</td><td>Windows</td></tr><tr><td>CPUs</td><td>4</td></tr><tr><td>Memory (Gb)</td><td>15.687431335449219</td></tr><tr><td colspan='2'>Wed Mar 02 07:51:31 2022 India Standard Time</td></tr></table>"
      ],
      "text/plain": [
       "<IPython.core.display.HTML object>"
      ]
     },
     "metadata": {},
     "output_type": "display_data"
    }
   ],
   "source": [
    "import warnings\n",
    "warnings.filterwarnings(\"ignore\")\n",
    "import qiskit.tools.jupyter\n",
    "%qiskit_version_table"
   ]
  },
  {
   "cell_type": "code",
   "execution_count": 2,
   "id": "2290c56d",
   "metadata": {},
   "outputs": [
    {
     "name": "stdout",
     "output_type": "stream",
     "text": [
      "Eikon version:  1.1.12\n"
     ]
    }
   ],
   "source": [
    "import eikon as ek\n",
    "print(\"Eikon version: \", ek.__version__)"
   ]
  },
  {
   "cell_type": "code",
   "execution_count": 54,
   "id": "23fff7a2",
   "metadata": {},
   "outputs": [],
   "source": [
    "import numpy as np\n",
    "import pandas as pd\n",
    "import datetime\n",
    "import matplotlib.pyplot as plt\n",
    "import seaborn as sns \n",
    "import qiskit\n",
    "from qiskit import Aer, QuantumCircuit\n",
    "from qiskit_finance.data_providers._base_data_provider import BaseDataProvider\n",
    "from qiskit.finance.applications.ising import portfolio\n",
    "from qiskit.circuit.library import TwoLocal\n",
    "from qiskit.aqua import QuantumInstance\n",
    "from qiskit.optimization.applications.ising.common import sample_most_likely\n",
    "from qiskit.aqua.algorithms import VQE, QAOA, NumPyMinimumEigensolver\n",
    "from qiskit.aqua.components.optimizers import COBYLA"
   ]
  },
  {
   "cell_type": "markdown",
   "id": "accf33ac",
   "metadata": {},
   "source": [
    "#### Setup token to run the experiment on a real device\n",
    "If you would like to run the experiment on a real device, you need to setup your account first. You can get your api token from [here](https://quantum-computing.ibm.com/)\n",
    "\n",
    "Note: If you do not store your token yet, use `IBMQ.save_account('MY_API_TOKEN')` to store it first."
   ]
  },
  {
   "cell_type": "code",
   "execution_count": 55,
   "id": "9741fc18",
   "metadata": {},
   "outputs": [],
   "source": [
    "from qiskit import IBMQ\n",
    "IBMQ.save_account('MY_API_TOKEN', overwrite=True)"
   ]
  },
  {
   "cell_type": "markdown",
   "id": "2936a100",
   "metadata": {},
   "source": [
    "#### Setup Eikon API\n",
    "I have saved my Eikon Data API key in a file for security reason and not displaying here in notebook."
   ]
  },
  {
   "cell_type": "code",
   "execution_count": 5,
   "id": "6556b57a",
   "metadata": {},
   "outputs": [],
   "source": [
    "eikon_key = open(\"eikon.txt\",\"r\")\n",
    "ek.set_app_key(str(eikon_key.read()))\n",
    "eikon_key.close()"
   ]
  },
  {
   "cell_type": "markdown",
   "id": "56c7c95b",
   "metadata": {},
   "source": [
    "## 2. Getting Data using Eikon API & Pre-Processing"
   ]
  },
  {
   "cell_type": "markdown",
   "id": "f1514ac0",
   "metadata": {},
   "source": [
    "#### Defining EikonDataProvider class for Loading Data as needed by Qiskit\n",
    "We will inherit BaseDataProvider from data provider module of Qiskit Finance to extend it's functionality of getting data from Eikon API in desired format and make use of existing functions."
   ]
  },
  {
   "cell_type": "code",
   "execution_count": 6,
   "id": "b1a2ab6d",
   "metadata": {},
   "outputs": [],
   "source": [
    "class EikonDataProvider(BaseDataProvider):\n",
    "    \"\"\"\n",
    "    The abstract base class for Eikon data_provider.\n",
    "    \"\"\"\n",
    "    def __init__(self, stocks_list, start_date, end_date):\n",
    "        '''\n",
    "        stocks -> List of interested assets\n",
    "        start -> start date to fetch historical data\n",
    "        end -> \n",
    "        '''\n",
    "        super().__init__()\n",
    "        self._stocks = stocks_list\n",
    "        self._start = start_date\n",
    "        self._end = end_date\n",
    "        self._data = []\n",
    "        self.stock_data = pd.DataFrame()\n",
    "        \n",
    "    def run(self):\n",
    "        self._data = []\n",
    "        stocks_notfound = []\n",
    "        stock_data = ek.get_timeseries(self._stocks,\n",
    "                  start_date=self._start, \n",
    "                  end_date=self._end, \n",
    "                  interval='daily',\n",
    "                  corax='adjusted')\n",
    "        for ticker in self._stocks:\n",
    "            stock_value = stock_data['CLOSE']\n",
    "            self.stock_data[ticker] = stock_data['CLOSE']\n",
    "            if stock_value.dropna().empty:\n",
    "                stocks_notfound.append(ticker)\n",
    "            self._data.append(stock_value)"
   ]
  },
  {
   "cell_type": "markdown",
   "id": "7720187f",
   "metadata": {},
   "source": [
    "### Initializing Required Parameters"
   ]
  },
  {
   "cell_type": "code",
   "execution_count": 7,
   "id": "879ed69a",
   "metadata": {},
   "outputs": [],
   "source": [
    "# List of stocks \n",
    "stock_list = ['FB.O']\n",
    "\n",
    "# Start Date\n",
    "start_date = datetime.datetime(2020,12,1)\n",
    "\n",
    "# End Date\n",
    "end_date = datetime.datetime(2021,12,1)\n",
    "\n",
    "# Set number of equities to the number of stocks\n",
    "num_assets = len(stock_list)\n",
    "\n",
    "# Set the risk factor\n",
    "risk_factor = 0.7\n",
    "\n",
    "# Set budget\n",
    "budget = 2\n",
    "\n",
    "# Scaling of budget penalty term will be dependant on the number of assets\n",
    "penalty = num_assets"
   ]
  },
  {
   "cell_type": "markdown",
   "id": "e8eb3840",
   "metadata": {},
   "source": [
    "### Getting data from Eikon API using EikonDataProvider class"
   ]
  },
  {
   "cell_type": "code",
   "execution_count": 8,
   "id": "cd003963",
   "metadata": {},
   "outputs": [],
   "source": [
    "data = EikonDataProvider(stocks_list = stock_list, start_date=start_date, end_date=end_date)\n",
    "data.run()"
   ]
  },
  {
   "cell_type": "code",
   "execution_count": 9,
   "id": "6f69c082",
   "metadata": {},
   "outputs": [
    {
     "data": {
      "text/html": [
       "<div>\n",
       "<style scoped>\n",
       "    .dataframe tbody tr th:only-of-type {\n",
       "        vertical-align: middle;\n",
       "    }\n",
       "\n",
       "    .dataframe tbody tr th {\n",
       "        vertical-align: top;\n",
       "    }\n",
       "\n",
       "    .dataframe thead th {\n",
       "        text-align: right;\n",
       "    }\n",
       "</style>\n",
       "<table border=\"1\" class=\"dataframe\">\n",
       "  <thead>\n",
       "    <tr style=\"text-align: right;\">\n",
       "      <th></th>\n",
       "      <th>FB.O</th>\n",
       "    </tr>\n",
       "    <tr>\n",
       "      <th>Date</th>\n",
       "      <th></th>\n",
       "    </tr>\n",
       "  </thead>\n",
       "  <tbody>\n",
       "    <tr>\n",
       "      <th>2020-12-01</th>\n",
       "      <td>286.55</td>\n",
       "    </tr>\n",
       "    <tr>\n",
       "      <th>2020-12-02</th>\n",
       "      <td>287.52</td>\n",
       "    </tr>\n",
       "    <tr>\n",
       "      <th>2020-12-03</th>\n",
       "      <td>281.85</td>\n",
       "    </tr>\n",
       "    <tr>\n",
       "      <th>2020-12-04</th>\n",
       "      <td>279.7</td>\n",
       "    </tr>\n",
       "    <tr>\n",
       "      <th>2020-12-07</th>\n",
       "      <td>285.58</td>\n",
       "    </tr>\n",
       "  </tbody>\n",
       "</table>\n",
       "</div>"
      ],
      "text/plain": [
       "              FB.O\n",
       "Date              \n",
       "2020-12-01  286.55\n",
       "2020-12-02  287.52\n",
       "2020-12-03  281.85\n",
       "2020-12-04   279.7\n",
       "2020-12-07  285.58"
      ]
     },
     "execution_count": 9,
     "metadata": {},
     "output_type": "execute_result"
    }
   ],
   "source": [
    "# Top 5 rows of data \n",
    "df = data.stock_data\n",
    "df.head()"
   ]
  },
  {
   "cell_type": "code",
   "execution_count": 10,
   "id": "b57ce602",
   "metadata": {},
   "outputs": [
    {
     "data": {
      "text/html": [
       "<div>\n",
       "<style scoped>\n",
       "    .dataframe tbody tr th:only-of-type {\n",
       "        vertical-align: middle;\n",
       "    }\n",
       "\n",
       "    .dataframe tbody tr th {\n",
       "        vertical-align: top;\n",
       "    }\n",
       "\n",
       "    .dataframe thead th {\n",
       "        text-align: right;\n",
       "    }\n",
       "</style>\n",
       "<table border=\"1\" class=\"dataframe\">\n",
       "  <thead>\n",
       "    <tr style=\"text-align: right;\">\n",
       "      <th></th>\n",
       "      <th>FB.O</th>\n",
       "    </tr>\n",
       "  </thead>\n",
       "  <tbody>\n",
       "    <tr>\n",
       "      <th>count</th>\n",
       "      <td>253.000000</td>\n",
       "    </tr>\n",
       "    <tr>\n",
       "      <th>mean</th>\n",
       "      <td>316.401403</td>\n",
       "    </tr>\n",
       "    <tr>\n",
       "      <th>std</th>\n",
       "      <td>36.680760</td>\n",
       "    </tr>\n",
       "    <tr>\n",
       "      <th>min</th>\n",
       "      <td>245.640000</td>\n",
       "    </tr>\n",
       "    <tr>\n",
       "      <th>25%</th>\n",
       "      <td>278.010000</td>\n",
       "    </tr>\n",
       "    <tr>\n",
       "      <th>50%</th>\n",
       "      <td>324.630000</td>\n",
       "    </tr>\n",
       "    <tr>\n",
       "      <th>75%</th>\n",
       "      <td>343.180000</td>\n",
       "    </tr>\n",
       "    <tr>\n",
       "      <th>max</th>\n",
       "      <td>382.180000</td>\n",
       "    </tr>\n",
       "  </tbody>\n",
       "</table>\n",
       "</div>"
      ],
      "text/plain": [
       "             FB.O\n",
       "count  253.000000\n",
       "mean   316.401403\n",
       "std     36.680760\n",
       "min    245.640000\n",
       "25%    278.010000\n",
       "50%    324.630000\n",
       "75%    343.180000\n",
       "max    382.180000"
      ]
     },
     "execution_count": 10,
     "metadata": {},
     "output_type": "execute_result"
    }
   ],
   "source": [
    "df.describe()"
   ]
  },
  {
   "cell_type": "code",
   "execution_count": 11,
   "id": "f6bc70ce",
   "metadata": {},
   "outputs": [
    {
     "data": {
      "image/png": "[encoded data removed]",
      "text/plain": [
       "<Figure size 1080x576 with 1 Axes>"
      ]
     },
     "metadata": {
      "needs_background": "light"
     },
     "output_type": "display_data"
    }
   ],
   "source": [
    "# Closing Price History\n",
    "fig, ax = plt.subplots(figsize=(15, 8))\n",
    "ax.plot(df)\n",
    "plt.title('Close Price History')\n",
    "plt.xlabel('Date',fontsize =20)\n",
    "plt.ylabel('Price in USD',fontsize = 20)\n",
    "ax.legend(df.columns.values)\n",
    "plt.show()"
   ]
  },
  {
   "cell_type": "markdown",
   "id": "2431bf79",
   "metadata": {},
   "source": [
    "For the purposes of this article we are going to direct our attention towards the Qiskit Finance application module by IBM, more specifically we are going to look at the quantum computing approach for pricing European Call options. In the Qiskit tutorial we can look at the gradual construction of a circuit specific for European Call."
   ]
  },
  {
   "cell_type": "code",
   "execution_count": 12,
   "id": "9794b56b",
   "metadata": {},
   "outputs": [
    {
     "data": {
      "text/html": [
       "<div>\n",
       "<style scoped>\n",
       "    .dataframe tbody tr th:only-of-type {\n",
       "        vertical-align: middle;\n",
       "    }\n",
       "\n",
       "    .dataframe tbody tr th {\n",
       "        vertical-align: top;\n",
       "    }\n",
       "\n",
       "    .dataframe thead th {\n",
       "        text-align: right;\n",
       "    }\n",
       "</style>\n",
       "<table border=\"1\" class=\"dataframe\">\n",
       "  <thead>\n",
       "    <tr style=\"text-align: right;\">\n",
       "      <th></th>\n",
       "      <th>FB.O</th>\n",
       "    </tr>\n",
       "    <tr>\n",
       "      <th>Date</th>\n",
       "      <th></th>\n",
       "    </tr>\n",
       "  </thead>\n",
       "  <tbody>\n",
       "    <tr>\n",
       "      <th>2021-11-24</th>\n",
       "      <td>341.06</td>\n",
       "    </tr>\n",
       "    <tr>\n",
       "      <th>2021-11-26</th>\n",
       "      <td>333.12</td>\n",
       "    </tr>\n",
       "    <tr>\n",
       "      <th>2021-11-29</th>\n",
       "      <td>338.03</td>\n",
       "    </tr>\n",
       "    <tr>\n",
       "      <th>2021-11-30</th>\n",
       "      <td>324.46</td>\n",
       "    </tr>\n",
       "    <tr>\n",
       "      <th>2021-12-01</th>\n",
       "      <td>310.6</td>\n",
       "    </tr>\n",
       "  </tbody>\n",
       "</table>\n",
       "</div>"
      ],
      "text/plain": [
       "              FB.O\n",
       "Date              \n",
       "2021-11-24  341.06\n",
       "2021-11-26  333.12\n",
       "2021-11-29  338.03\n",
       "2021-11-30  324.46\n",
       "2021-12-01   310.6"
      ]
     },
     "execution_count": 12,
     "metadata": {},
     "output_type": "execute_result"
    }
   ],
   "source": [
    "df.tail()"
   ]
  },
  {
   "cell_type": "code",
   "execution_count": 13,
   "id": "999df20a",
   "metadata": {},
   "outputs": [],
   "source": [
    "strike_price = 315   # agreed upon strike price\n",
    "T = 40 / 253         # 40 days to maturity\n",
    "\n",
    "S = 310.6              # initial spot price\n",
    "# vol = 0.4            # volatility of 40%\n",
    "vol = df['FB.O'].pct_change().std()\n",
    "r = 0.05             # annual interest rate of 4%\n",
    "\n",
    "# resulting parameters for log-normal distribution\n",
    "mu = ((r - 0.5 * vol**2) * T + np.log(S))\n",
    "sigma = vol * np.sqrt(T)\n",
    "mean = np.exp(mu + sigma**2/2)\n",
    "variance = (np.exp(sigma**2) - 1) * np.exp(2*mu + sigma**2)\n",
    "stddev = np.sqrt(variance)\n",
    "\n",
    "# lowest and highest value considered for the spot price; in between, an equidistant discretization is considered.\n",
    "low  = np.maximum(0, mean - 3*stddev)\n",
    "high = mean + 3*stddev"
   ]
  },
  {
   "cell_type": "code",
   "execution_count": 14,
   "id": "868cc1ea",
   "metadata": {},
   "outputs": [
    {
     "data": {
      "text/plain": [
       "306.2211877059792"
      ]
     },
     "execution_count": 14,
     "metadata": {},
     "output_type": "execute_result"
    }
   ],
   "source": [
    "low"
   ]
  },
  {
   "cell_type": "code",
   "execution_count": 15,
   "id": "3f5bf264",
   "metadata": {},
   "outputs": [
    {
     "data": {
      "text/plain": [
       "319.90894524815974"
      ]
     },
     "execution_count": 15,
     "metadata": {},
     "output_type": "execute_result"
    }
   ],
   "source": [
    "high"
   ]
  },
  {
   "cell_type": "code",
   "execution_count": 16,
   "id": "19d514fa",
   "metadata": {},
   "outputs": [],
   "source": [
    "import numpy as np\n",
    "from qiskit.algorithms import AmplitudeEstimation\n",
    "from qiskit_finance.circuit.library import EuropeanCallPricingObjective  # F\n",
    "from qiskit.circuit.library import LogNormalDistribution, NormalDistribution\n",
    "from qiskit_finance.applications import EuropeanCallPricing\n",
    "from qiskit_finance.applications.estimation import EuropeanCallDelta\n",
    "from qiskit import Aer\n",
    "from qiskit.algorithms import IterativeAmplitudeEstimation"
   ]
  },
  {
   "cell_type": "code",
   "execution_count": 17,
   "id": "bd68b69f",
   "metadata": {},
   "outputs": [
    {
     "data": {
      "text/plain": [
       "[<IBMQSimulator('ibmq_qasm_simulator') from IBMQ(hub='ibm-q', group='open', project='main')>,\n",
       " <IBMQBackend('ibmq_armonk') from IBMQ(hub='ibm-q', group='open', project='main')>,\n",
       " <IBMQBackend('ibmq_santiago') from IBMQ(hub='ibm-q', group='open', project='main')>,\n",
       " <IBMQBackend('ibmq_bogota') from IBMQ(hub='ibm-q', group='open', project='main')>,\n",
       " <IBMQBackend('ibmq_lima') from IBMQ(hub='ibm-q', group='open', project='main')>,\n",
       " <IBMQBackend('ibmq_belem') from IBMQ(hub='ibm-q', group='open', project='main')>,\n",
       " <IBMQBackend('ibmq_quito') from IBMQ(hub='ibm-q', group='open', project='main')>,\n",
       " <IBMQSimulator('simulator_statevector') from IBMQ(hub='ibm-q', group='open', project='main')>,\n",
       " <IBMQSimulator('simulator_mps') from IBMQ(hub='ibm-q', group='open', project='main')>,\n",
       " <IBMQSimulator('simulator_extended_stabilizer') from IBMQ(hub='ibm-q', group='open', project='main')>,\n",
       " <IBMQSimulator('simulator_stabilizer') from IBMQ(hub='ibm-q', group='open', project='main')>,\n",
       " <IBMQBackend('ibmq_manila') from IBMQ(hub='ibm-q', group='open', project='main')>]"
      ]
     },
     "execution_count": 17,
     "metadata": {},
     "output_type": "execute_result"
    }
   ],
   "source": [
    "provider = IBMQ.load_account() \n",
    "provider.backends()"
   ]
  },
  {
   "cell_type": "code",
   "execution_count": 56,
   "id": "c9f9ccb5",
   "metadata": {},
   "outputs": [],
   "source": [
    "backend = provider.get_backend(\"ibmq_lima\")\n",
    "sim = QuantumInstance(backend=backend, shots=1000)"
   ]
  },
  {
   "cell_type": "markdown",
   "id": "b4633b14",
   "metadata": {},
   "source": [
    "#### Due to limitation in number of publicly available qubits of IBMQ systems, we will be using 2 qubits to test it on real quantum computer. "
   ]
  },
  {
   "cell_type": "code",
   "execution_count": 19,
   "id": "6b9998fd",
   "metadata": {},
   "outputs": [],
   "source": [
    "# number of qubits to represent the uncertainty\n",
    "num_uncertainty_qubits = 2"
   ]
  },
  {
   "cell_type": "markdown",
   "id": "9f552acf",
   "metadata": {},
   "source": [
    "## 3. Log Normal Distribution\n",
    "\n",
    "### Call Option"
   ]
  },
  {
   "cell_type": "code",
   "execution_count": 20,
   "id": "c5b8ef3e",
   "metadata": {},
   "outputs": [],
   "source": [
    "distribution = LogNormalDistribution(num_uncertainty_qubits, mu=mu, sigma=sigma**2, bounds=(low, high))"
   ]
  },
  {
   "cell_type": "code",
   "execution_count": 21,
   "id": "0a3fb1c5",
   "metadata": {},
   "outputs": [],
   "source": [
    "european_call_pricing = EuropeanCallPricing(num_state_qubits=num_uncertainty_qubits,\n",
    "                                            strike_price=strike_price,\n",
    "                                            rescaling_factor=0.25,  # approximation constant for payoff function\n",
    "                                            bounds=(low, high),\n",
    "                                            uncertainty_model=distribution)"
   ]
  },
  {
   "cell_type": "code",
   "execution_count": 22,
   "id": "d838b580",
   "metadata": {},
   "outputs": [],
   "source": [
    "problem = european_call_pricing.to_estimation_problem()"
   ]
  },
  {
   "cell_type": "code",
   "execution_count": 23,
   "id": "f5790232",
   "metadata": {},
   "outputs": [
    {
     "data": {
      "image/png": "[encoded data removed]",
      "text/plain": [
       "<Figure size 206.997x325.08 with 1 Axes>"
      ]
     },
     "metadata": {},
     "output_type": "display_data"
    }
   ],
   "source": [
    "problem.state_preparation.draw('mpl', style='iqx')\n",
    "plt.show()"
   ]
  },
  {
   "cell_type": "markdown",
   "id": "4767d59d",
   "metadata": {},
   "source": [
    "In this diagram, we see implementation of the Log-normal distribution on the first layer and Linear Amplitude Estimation function on the second layer. In both European call and European put implementations a central algorithm is Iterative Amplitude Estimation. Crucially, this implementation does not rely on Quantum Phase Estimation, instead it bases only on select Grover iterations. Essentially, we are interested in the probability of measuring ∣1⟩ in the last qubit."
   ]
  },
  {
   "cell_type": "code",
   "execution_count": 24,
   "id": "25281eee",
   "metadata": {},
   "outputs": [],
   "source": [
    "epsilon = 0.01  # determines final accuracy\n",
    "alpha = 0.05  # determines how certain we are of the result\n",
    "\n",
    "ae = IterativeAmplitudeEstimation(epsilon, alpha=alpha, quantum_instance=sim)"
   ]
  },
  {
   "cell_type": "code",
   "execution_count": 57,
   "id": "ccc01f92",
   "metadata": {},
   "outputs": [],
   "source": [
    "result = ae.estimate(problem)"
   ]
  },
  {
   "cell_type": "code",
   "execution_count": 26,
   "id": "40315560",
   "metadata": {},
   "outputs": [
    {
     "name": "stdout",
     "output_type": "stream",
     "text": [
      "Esimated value: \t2.5420\n",
      "Confidence interval: \t[2.4652, 2.6188]\n"
     ]
    }
   ],
   "source": [
    "conf_int_result = np.array(result.confidence_interval_processed)\n",
    "print(\"Esimated value: \\t%.4f\" % european_call_pricing.interpret(result))\n",
    "print(\"Confidence interval: \\t[%.4f, %.4f]\" % tuple(conf_int_result))"
   ]
  },
  {
   "cell_type": "code",
   "execution_count": 49,
   "id": "d2481ffb",
   "metadata": {},
   "outputs": [
    {
     "data": {
      "image/png": "[encoded data removed]",
      "text/plain": [
       "<Figure size 432x288 with 1 Axes>"
      ]
     },
     "metadata": {
      "needs_background": "light"
     },
     "output_type": "display_data"
    }
   ],
   "source": [
    "x = distribution.values\n",
    "y = distribution.probabilities\n",
    "plt.figure(figsize=(6,4))\n",
    "plt.bar(x, y, width=2)\n",
    "plt.xticks(x, size=12, rotation=45)\n",
    "plt.yticks(size=12)\n",
    "plt.xlabel('Spot Price at Maturity $S_T$ (\\$)', size=15)\n",
    "plt.ylabel('Probability ($\\%$)', size=15)\n",
    "plt.show()"
   ]
  },
  {
   "cell_type": "code",
   "execution_count": 50,
   "id": "0c2a2fe8",
   "metadata": {},
   "outputs": [
    {
     "data": {
      "image/png": "[encoded data removed]",
      "text/plain": [
       "<Figure size 432x288 with 1 Axes>"
      ]
     },
     "metadata": {
      "needs_background": "light"
     },
     "output_type": "display_data"
    }
   ],
   "source": [
    "# plot exact payoff function (evaluated on the grid of the uncertainty model)\n",
    "x = distribution.values\n",
    "y = np.maximum(0, x - strike_price)\n",
    "plt.figure(figsize=(6,4))\n",
    "plt.plot(x, y, \"ro-\")\n",
    "plt.title(\"Payoff Function\", size=15)\n",
    "plt.xlabel(\"Spot Price\", size=15)\n",
    "plt.ylabel(\"Payoff\", size=15)\n",
    "plt.xticks(x, size=12, rotation=45)\n",
    "plt.yticks(size=12)\n",
    "plt.show()"
   ]
  },
  {
   "cell_type": "code",
   "execution_count": 29,
   "id": "d4905eab",
   "metadata": {},
   "outputs": [
    {
     "name": "stdout",
     "output_type": "stream",
     "text": [
      "exact expected value:\t0.2159\n",
      "exact delta value:   \t0.4970\n"
     ]
    }
   ],
   "source": [
    "# evaluate exact expected value (normalized to the [0, 1] interval)\n",
    "exact_value = np.dot(distribution.probabilities, y)\n",
    "exact_delta = sum(distribution.probabilities[x >= strike_price])\n",
    "print(\"exact expected value:\\t%.4f\" % exact_value)\n",
    "print(\"exact delta value:   \\t%.4f\" % exact_delta)"
   ]
  },
  {
   "cell_type": "markdown",
   "id": "f049f27a",
   "metadata": {},
   "source": [
    "### Evaluate Delta\n",
    "\n",
    "The Delta is a bit simpler to evaluate than the expected payoff. Similarly to the expected payoff, we use a comparator circuit and an ancilla qubit to identify the cases. However, since we are only interested in the probability of this condition being true, we can directly use this ancilla qubit as the objective qubit in amplitude estimation without any further approximation."
   ]
  },
  {
   "cell_type": "code",
   "execution_count": 30,
   "id": "3dc75abf",
   "metadata": {},
   "outputs": [],
   "source": [
    "european_call_delta = EuropeanCallDelta(\n",
    "    num_state_qubits=num_uncertainty_qubits,\n",
    "    strike_price=strike_price,\n",
    "    bounds=(low, high),\n",
    "    uncertainty_model=distribution,\n",
    ")"
   ]
  },
  {
   "cell_type": "code",
   "execution_count": 31,
   "id": "369d9b9c",
   "metadata": {},
   "outputs": [
    {
     "data": {
      "image/png": "[encoded data removed]",
      "text/plain": [
       "<Figure size 186.314x264.88 with 1 Axes>"
      ]
     },
     "metadata": {},
     "output_type": "display_data"
    }
   ],
   "source": [
    "european_call_delta._objective.decompose().draw('mpl', style='iqx')\n",
    "plt.show()"
   ]
  },
  {
   "cell_type": "code",
   "execution_count": 32,
   "id": "66498857",
   "metadata": {},
   "outputs": [
    {
     "data": {
      "image/png": "[encoded data removed]",
      "text/plain": [
       "<Figure size 206.997x264.88 with 1 Axes>"
      ]
     },
     "metadata": {},
     "output_type": "display_data"
    }
   ],
   "source": [
    "european_call_delta_circ = QuantumCircuit(european_call_delta._objective.num_qubits)\n",
    "european_call_delta_circ.append(distribution, range(num_uncertainty_qubits))\n",
    "european_call_delta_circ.append(\n",
    "    european_call_delta._objective, range(european_call_delta._objective.num_qubits)\n",
    ")\n",
    "\n",
    "european_call_delta_circ.draw('mpl', style='iqx')\n",
    "plt.show()"
   ]
  },
  {
   "cell_type": "code",
   "execution_count": 33,
   "id": "1c213222",
   "metadata": {},
   "outputs": [],
   "source": [
    "# set target precision and confidence level\n",
    "epsilon = 0.01\n",
    "alpha = 0.05\n",
    "\n",
    "problem = european_call_delta.to_estimation_problem()\n",
    "\n",
    "# construct amplitude estimation\n",
    "ae_delta = IterativeAmplitudeEstimation(epsilon, alpha=alpha, quantum_instance=sim)"
   ]
  },
  {
   "cell_type": "code",
   "execution_count": 34,
   "id": "47bdf592",
   "metadata": {},
   "outputs": [],
   "source": [
    "result_delta = ae_delta.estimate(problem)"
   ]
  },
  {
   "cell_type": "code",
   "execution_count": 35,
   "id": "12001519",
   "metadata": {},
   "outputs": [
    {
     "name": "stdout",
     "output_type": "stream",
     "text": [
      "Exact delta:    \t0.4970\n",
      "Esimated value: \t0.5023\n",
      "Confidence interval: \t[0.4976, 0.5071]\n"
     ]
    }
   ],
   "source": [
    "conf_int = np.array(result_delta.confidence_interval_processed)\n",
    "print(\"Exact delta:    \\t%.4f\" % exact_delta)\n",
    "print(\"Esimated value: \\t%.4f\" % european_call_delta.interpret(result_delta))\n",
    "print(\"Confidence interval: \\t[%.4f, %.4f]\" % tuple(conf_int))"
   ]
  }
 ],
 "metadata": {
  "kernelspec": {
   "display_name": "Python 3 (ipykernel)",
   "language": "python",
   "name": "python3"
  },
  "language_info": {
   "codemirror_mode": {
    "name": "ipython",
    "version": 3
   },
   "file_extension": ".py",
   "mimetype": "text/x-python",
   "name": "python",
   "nbconvert_exporter": "python",
   "pygments_lexer": "ipython3",
   "version": "3.8.8"
  }
 },
 "nbformat": 4,
 "nbformat_minor": 5
}
